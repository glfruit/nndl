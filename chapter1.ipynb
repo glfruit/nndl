{
 "cells": [
  {
   "cell_type": "markdown",
   "metadata": {},
   "source": [
    "# Chapter 1"
   ]
  },
  {
   "cell_type": "markdown",
   "metadata": {},
   "source": [
    "## Exercise (P15)\n",
    "[参考](https://datascience.stackexchange.com/questions/6639/extra-output-layer-in-a-neural-network-decimal-to-binary)"
   ]
  },
  {
   "cell_type": "code",
   "execution_count": 1,
   "metadata": {},
   "outputs": [],
   "source": [
    "import numpy as np"
   ]
  },
  {
   "cell_type": "code",
   "execution_count": 56,
   "metadata": {},
   "outputs": [],
   "source": [
    "W2 = np.zeros((4,10))\n",
    "A2 = np.array([\n",
    "        [0.991,0.007,0.006,0.008,0.007,0.008,0.007,0.008,0.007,0.008], # 0\n",
    "        [0.008,0.991,0.003,0.008,0.007,0.008,0.007,0.008,0.007,0.008], # 1\n",
    "        [0.008,0.007,0.991,0.008,0.007,0.008,0.007,0.008,0.007,0.008], # 2\n",
    "        [0.008,0.007,0.008,0.991,0.007,0.008,0.007,0.008,0.007,0.008], # 3\n",
    "        [0.008,0.007,0.008,0.007,0.991,0.008,0.007,0.008,0.007,0.008], # 4\n",
    "        [0.008,0.007,0.008,0.007,0.008,0.991,0.007,0.008,0.007,0.008], # 5\n",
    "        [0.008,0.007,0.008,0.007,0.008,0.007,0.991,0.008,0.007,0.008], # 6\n",
    "        [0.008,0.007,0.008,0.007,0.008,0.007,0.008,0.991,0.007,0.008], # 7\n",
    "        [0.008,0.007,0.008,0.007,0.008,0.007,0.008,0.007,0.991,0.008], # 8\n",
    "        [0.008,0.007,0.008,0.007,0.008,0.007,0.008,0.007,0.008,0.991,]  # 9\n",
    "    ]) # \n",
    "A2_3 = np.array([0.008,0.007,0.008,0.991,0.007,0.008,0.007,0.008,0.007,0.008])"
   ]
  },
  {
   "cell_type": "code",
   "execution_count": 57,
   "metadata": {},
   "outputs": [
    {
     "name": "stdout",
     "output_type": "stream",
     "text": [
      "W2.shape: (4, 10)\n",
      "A2.shape: (10, 10)\n"
     ]
    }
   ],
   "source": [
    "print(\"W2.shape:\",W2.shape)\n",
    "print(\"A2.shape:\",A2.shape)"
   ]
  },
  {
   "cell_type": "markdown",
   "metadata": {},
   "source": [
    "## Binary Schema\n",
    "$$\n",
    "[\n",
    "  [0,0,0,0],\n",
    "  [0,0,0,1],\n",
    "  [0,0,1,0],\n",
    "  [0,0,1,1],\n",
    "  [0,1,0,0],\n",
    "  [0,1,0,1],\n",
    "  [0,1,1,0],\n",
    "  [0,1,1,1],\n",
    "  [1,0,0,0],\n",
    "  [1,0,0,1]\n",
    "]\n",
    "$$"
   ]
  },
  {
   "cell_type": "code",
   "execution_count": 58,
   "metadata": {},
   "outputs": [],
   "source": [
    "# 0 \n",
    "W2[:,0] = -10\n",
    "\n",
    "# 1\n",
    "W2[0][1] = -10\n",
    "W2[1][1] = -10\n",
    "W2[2][1] = -10\n",
    "W2[3][1] = 10\n",
    "\n",
    "# 2\n",
    "W2[0][2] = -10\n",
    "W2[1][2] = -10\n",
    "W2[2][2] = 10\n",
    "W2[3][2] = -10\n",
    "\n",
    "# 3\n",
    "W2[0][3] = -10\n",
    "W2[1][3] = -10\n",
    "W2[2][3] = 10\n",
    "W2[3][3] = 10\n",
    "\n",
    "# 4\n",
    "W2[0][4] = -10\n",
    "W2[1][4] = 10\n",
    "W2[2][4] = -10\n",
    "W2[3][4] = -10\n",
    "\n",
    "# 5\n",
    "W2[0][5] = -10\n",
    "W2[1][5] = 10\n",
    "W2[2][5] = -10\n",
    "W2[3][5] = 10\n",
    "\n",
    "# 6\n",
    "W2[0][6] = -10\n",
    "W2[1][6] = 10\n",
    "W2[2][6] = 10\n",
    "W2[3][6] = -10\n",
    "\n",
    "# 7\n",
    "W2[0][7] = -10\n",
    "W2[1][7] = 10\n",
    "W2[2][7] = 10\n",
    "W2[3][7] = 10\n",
    "\n",
    "# 8\n",
    "W2[0][8] = 10\n",
    "W2[1][8] = -10\n",
    "W2[2][8] = -10\n",
    "W2[3][8] = -10\n",
    "\n",
    "# 9\n",
    "W2[0][9] = 10\n",
    "W2[1][9] = -10\n",
    "W2[2][9] = -10\n",
    "W2[3][9] = 10"
   ]
  },
  {
   "cell_type": "code",
   "execution_count": 59,
   "metadata": {},
   "outputs": [
    {
     "data": {
      "text/plain": [
       "array([[-10., -10., -10., -10., -10., -10., -10., -10.,  10.,  10.],\n",
       "       [-10., -10., -10., -10.,  10.,  10.,  10.,  10., -10., -10.],\n",
       "       [-10., -10.,  10.,  10., -10., -10.,  10.,  10., -10., -10.],\n",
       "       [-10.,  10., -10.,  10., -10.,  10., -10.,  10., -10.,  10.]])"
      ]
     },
     "execution_count": 59,
     "metadata": {},
     "output_type": "execute_result"
    }
   ],
   "source": [
    "W2"
   ]
  },
  {
   "cell_type": "code",
   "execution_count": 60,
   "metadata": {},
   "outputs": [],
   "source": [
    "Z3 = np.dot(A2,W2.T)"
   ]
  },
  {
   "cell_type": "code",
   "execution_count": 61,
   "metadata": {},
   "outputs": [],
   "source": [
    "def sigmoid(z):\n",
    "    return 1 / (1 + np.exp(-z))"
   ]
  },
  {
   "cell_type": "code",
   "execution_count": 62,
   "metadata": {},
   "outputs": [],
   "source": [
    "A3 = sigmoid(Z3)"
   ]
  },
  {
   "cell_type": "code",
   "execution_count": 63,
   "metadata": {},
   "outputs": [
    {
     "data": {
      "text/plain": [
       "array([[3.46561743e-05, 4.67803750e-05, 4.58541039e-05, 5.60057605e-05],\n",
       "       [3.53562507e-05, 4.77253561e-05, 4.40562180e-05, 9.99950327e-01],\n",
       "       [3.39699594e-05, 4.58541039e-05, 9.99938104e-01, 5.48968330e-05],\n",
       "       [3.39699594e-05, 4.58541039e-05, 9.99938104e-01, 9.99947256e-01],\n",
       "       [3.39699594e-05, 9.99938104e-01, 4.58541039e-05, 5.38098613e-05],\n",
       "       [3.39699594e-05, 9.99938104e-01, 4.58541039e-05, 9.99946190e-01],\n",
       "       [3.39699594e-05, 9.99938104e-01, 9.99938104e-01, 5.27444109e-05],\n",
       "       [3.39699594e-05, 9.99938104e-01, 9.99938104e-01, 9.99945103e-01],\n",
       "       [9.99916452e-01, 4.58541039e-05, 4.58541039e-05, 5.17000556e-05],\n",
       "       [9.99916452e-01, 4.58541039e-05, 4.58541039e-05, 9.99943994e-01]])"
      ]
     },
     "execution_count": 63,
     "metadata": {},
     "output_type": "execute_result"
    }
   ],
   "source": [
    "A3"
   ]
  },
  {
   "cell_type": "code",
   "execution_count": 64,
   "metadata": {},
   "outputs": [],
   "source": [
    "A3[A3 >= 0.5] = 1\n",
    "A3[A3 < 0.5] = 0"
   ]
  },
  {
   "cell_type": "code",
   "execution_count": 65,
   "metadata": {},
   "outputs": [
    {
     "data": {
      "text/plain": [
       "array([[0., 0., 0., 0.],\n",
       "       [0., 0., 0., 1.],\n",
       "       [0., 0., 1., 0.],\n",
       "       [0., 0., 1., 1.],\n",
       "       [0., 1., 0., 0.],\n",
       "       [0., 1., 0., 1.],\n",
       "       [0., 1., 1., 0.],\n",
       "       [0., 1., 1., 1.],\n",
       "       [1., 0., 0., 0.],\n",
       "       [1., 0., 0., 1.]])"
      ]
     },
     "execution_count": 65,
     "metadata": {},
     "output_type": "execute_result"
    }
   ],
   "source": [
    "A3"
   ]
  }
 ],
 "metadata": {
  "kernelspec": {
   "display_name": "Python 3",
   "language": "python",
   "name": "python3"
  },
  "language_info": {
   "codemirror_mode": {
    "name": "ipython",
    "version": 3
   },
   "file_extension": ".py",
   "mimetype": "text/x-python",
   "name": "python",
   "nbconvert_exporter": "python",
   "pygments_lexer": "ipython3",
   "version": "3.7.1"
  }
 },
 "nbformat": 4,
 "nbformat_minor": 2
}
